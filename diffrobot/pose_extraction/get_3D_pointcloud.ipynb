{
 "cells": [
  {
   "cell_type": "code",
   "execution_count": 14,
   "metadata": {},
   "outputs": [],
   "source": [
    "from diffrobot.robot.visualizer import RobotViz\n",
    "import os\n",
    "import json\n",
    "import pdb\n",
    "import time\n",
    "import spatialmath as sm\n",
    "import numpy as np\n",
    "import cv2\n",
    "import open3d as o3d\n",
    "import matplotlib.pyplot as plt\n",
    "import pyrealsense2 as rs\n",
    "\n",
    "\n",
    "dataset_path = \"/home/krishan/work/2024/datasets/image_processing\"\n",
    "episodes = sorted(os.listdir(os.path.join(dataset_path, \"episodes\")), key=lambda x: int(x))\n",
    "# env = RobotViz()\n",
    "\n",
    "\n",
    "# read in camera intrinsics\n",
    "intrinsics_path = os.path.join(dataset_path, \"calibration\", \"hand_eye.json\")\n",
    "with open(intrinsics_path, \"r\") as f:\n",
    "    intrinsics_data = json.load(f)\n",
    "\n",
    "\n",
    "intrinsics_matrix = np.array(intrinsics_data[\"intrinsics\"])\n",
    "\n",
    "fx, fy, cx, cy = intrinsics_matrix[0, 0], intrinsics_matrix[1, 1], intrinsics_matrix[0, 2], intrinsics_matrix[1, 2]\n",
    "\n",
    "X_FE = np.array([[0.70710678, 0.70710678, 0.0, 0.0], \n",
    "                [-0.70710678, 0.70710678, 0, 0], \n",
    "                [0.0, 0.0, 1.0, 0.1], \n",
    "                [0.0, 0.0, 0.0, 1.0]])\n",
    "\n",
    "X_FE = sm.SE3(X_FE, check=False).norm()\n",
    "\n",
    "\n",
    "def to_3D(fx, fy, depth, cx, cy, u, v):\n",
    "    x = (u-cx)*depth/fx\n",
    "    y = (v-cy)*depth/fy\n",
    "    z = depth\n",
    "    x = np.expand_dims(x, axis = -1)\n",
    "    y = np.expand_dims(y, axis = -1)\n",
    "    z = np.expand_dims(z, axis = -1)\n",
    "    return np.concatenate((x,y,z), axis=-1)\n",
    "    \n",
    "\n"
   ]
  },
  {
   "cell_type": "code",
   "execution_count": 21,
   "metadata": {},
   "outputs": [
    {
     "name": "stdout",
     "output_type": "stream",
     "text": [
      "\u001b[1;33m[Open3D WARNING] GLFW Error: X11: The DISPLAY environment variable is missing\u001b[0;m\n",
      "\u001b[1;33m[Open3D WARNING] Failed to initialize GLFW\u001b[0;m\n",
      "\u001b[1;33m[Open3D WARNING] [DrawGeometries] Failed creating OpenGL window.\u001b[0;m\n"
     ]
    }
   ],
   "source": [
    "\n",
    "episode_path = os.path.join(dataset_path, \"episodes\", \"0\", \"state.json\")\n",
    "with open(episode_path, \"r\") as f:\n",
    "    data = json.load(f)\n",
    "\n",
    "# for idx, state in enumerate(data):\n",
    "\n",
    "# rgb_fpath = os.path.join(dataset_path, \"episodes\", episode, \"images\", \"rgb\", f\"{idx+1}.png\")\n",
    "rgb_fpath = os.path.join(dataset_path, \"episodes\", \"0\", \"images\", \"rgb\", \"1.png\")\n",
    "# depth_fpath = os.path.join(dataset_path, \"episodes\", episode, \"images\", \"depth\", f\"{idx+1}.png\")\n",
    "depth_fpath = os.path.join(dataset_path, \"episodes\", \"0\", \"images\", \"depth\", \"1.png\")\n",
    "rgb = cv2.imread(rgb_fpath)\n",
    "depth = cv2.imread(depth_fpath, -1) * 0.00025\n",
    "# create a mask that cuts out a border of the image\n",
    "mask = np.zeros_like(depth)\n",
    "mask[50:-50, 50:-50] = 1\n",
    "depth = depth * mask\n",
    "rgb = rgb * mask[..., np.newaxis].astype(np.uint8)\n",
    "\n",
    "# mask 2\n",
    "mask = depth< 1.0\n",
    "depth = depth * mask\n",
    "rgb = rgb * mask[..., np.newaxis].astype(np.uint8)\n",
    "\n",
    "height, width, _ = rgb.shape\n",
    "intrinsics = o3d.camera.PinholeCameraIntrinsic(width, height, fx, fy, cx, cy)\n",
    "\n",
    "H = rgb.shape[0]\n",
    "W = rgb.shape[1]\n",
    "u = np.arange(W)\n",
    "v = np.arange(H)\n",
    "u, v = np.meshgrid(u, v)\n",
    "xyz = to_3D(fx, fy, depth, cx, cy, u, v)\n",
    "point_cloud = np.concatenate((xyz, rgb), axis=-1)\n",
    "\n",
    "\n",
    "# Separate XYZ coordinates and RGB colors\n",
    "xyz = point_cloud[..., :3]  # Shape: (720, 1280, 3)\n",
    "rgb = point_cloud[..., 3:6] / 255.0  # Normalizing RGB to [0, 1], Shape: (720, 1280, 3)\n",
    "\n",
    "# Flatten the arrays since Open3D expects N x 3 matrices for points and colors\n",
    "xyz_flat = xyz.reshape(-1, 3)\n",
    "rgb_flat = rgb.reshape(-1, 3)\n",
    "\n",
    "# Create a point cloud object\n",
    "pcd = o3d.geometry.PointCloud()\n",
    "\n",
    "# Set the points and colors\n",
    "pcd.points = o3d.utility.Vector3dVector(xyz_flat)\n",
    "pcd.colors = o3d.utility.Vector3dVector(rgb_flat)\n",
    "\n",
    "# Visualize the point cloud\n",
    "o3d.visualization.draw_geometries([pcd])\n",
    "\n",
    "\n",
    "\n",
    "\n",
    "# # # show image with pyplot\n",
    "# plt.figure()\n",
    "# # use a different colormap for depth\n",
    "# # color bar is in meters\n",
    "# # add a colorbar to the image\n",
    "# plt.colorbar(plt.imshow(depth, cmap='jet'))\n",
    "# plt.imshow(depth, cmap='jet')\n",
    "\n",
    "# # show rgb image as  well\n",
    "# plt.figure()\n",
    "# plt.imshow(rgb)\n",
    "\n",
    "# plt.show()\n",
    "\n",
    "\n",
    "        \n"
   ]
  },
  {
   "cell_type": "code",
   "execution_count": 17,
   "metadata": {},
   "outputs": [
    {
     "data": {
      "text/plain": [
       "(720, 1280, 6)"
      ]
     },
     "execution_count": 17,
     "metadata": {},
     "output_type": "execute_result"
    }
   ],
   "source": [
    "point_cloud.shape"
   ]
  },
  {
   "cell_type": "code",
   "execution_count": 20,
   "metadata": {},
   "outputs": [
    {
     "data": {
      "text/plain": [
       "array([[[0, 0, 0],\n",
       "        [0, 0, 0],\n",
       "        [0, 0, 0],\n",
       "        ...,\n",
       "        [0, 0, 0],\n",
       "        [0, 0, 0],\n",
       "        [0, 0, 0]],\n",
       "\n",
       "       [[0, 0, 0],\n",
       "        [0, 0, 0],\n",
       "        [0, 0, 0],\n",
       "        ...,\n",
       "        [0, 0, 0],\n",
       "        [0, 0, 0],\n",
       "        [0, 0, 0]],\n",
       "\n",
       "       [[0, 0, 0],\n",
       "        [0, 0, 0],\n",
       "        [0, 0, 0],\n",
       "        ...,\n",
       "        [0, 0, 0],\n",
       "        [0, 0, 0],\n",
       "        [0, 0, 0]],\n",
       "\n",
       "       ...,\n",
       "\n",
       "       [[0, 0, 0],\n",
       "        [0, 0, 0],\n",
       "        [0, 0, 0],\n",
       "        ...,\n",
       "        [0, 0, 0],\n",
       "        [0, 0, 0],\n",
       "        [0, 0, 0]],\n",
       "\n",
       "       [[0, 0, 0],\n",
       "        [0, 0, 0],\n",
       "        [0, 0, 0],\n",
       "        ...,\n",
       "        [0, 0, 0],\n",
       "        [0, 0, 0],\n",
       "        [0, 0, 0]],\n",
       "\n",
       "       [[0, 0, 0],\n",
       "        [0, 0, 0],\n",
       "        [0, 0, 0],\n",
       "        ...,\n",
       "        [0, 0, 0],\n",
       "        [0, 0, 0],\n",
       "        [0, 0, 0]]], dtype=uint8)"
      ]
     },
     "execution_count": 20,
     "metadata": {},
     "output_type": "execute_result"
    }
   ],
   "source": [
    "\n",
    "rgb\n",
    "    "
   ]
  },
  {
   "cell_type": "code",
   "execution_count": 13,
   "metadata": {},
   "outputs": [
    {
     "ename": "RuntimeError",
     "evalue": "Image can only be initialized from buffer of uint8, uint16, or float!",
     "output_type": "error",
     "traceback": [
      "\u001b[0;31m---------------------------------------------------------------------------\u001b[0m",
      "\u001b[0;31mRuntimeError\u001b[0m                              Traceback (most recent call last)",
      "Cell \u001b[0;32mIn[13], line 6\u001b[0m\n\u001b[1;32m      1\u001b[0m \u001b[38;5;66;03m# \u001b[39;00m\n\u001b[1;32m      2\u001b[0m \n\u001b[1;32m      3\u001b[0m \u001b[38;5;66;03m# Create an Open3D RGBD image from the RGB and depth images\u001b[39;00m\n\u001b[1;32m      4\u001b[0m rgbd_image \u001b[38;5;241m=\u001b[39m o3d\u001b[38;5;241m.\u001b[39mgeometry\u001b[38;5;241m.\u001b[39mRGBDImage\u001b[38;5;241m.\u001b[39mcreate_from_color_and_depth(\n\u001b[1;32m      5\u001b[0m     o3d\u001b[38;5;241m.\u001b[39mgeometry\u001b[38;5;241m.\u001b[39mImage(rgb),\n\u001b[0;32m----> 6\u001b[0m     \u001b[43mo3d\u001b[49m\u001b[38;5;241;43m.\u001b[39;49m\u001b[43mgeometry\u001b[49m\u001b[38;5;241;43m.\u001b[39;49m\u001b[43mImage\u001b[49m\u001b[43m(\u001b[49m\u001b[43mdepth\u001b[49m\u001b[43m)\u001b[49m,\n\u001b[1;32m      7\u001b[0m     depth_scale\u001b[38;5;241m=\u001b[39m\u001b[38;5;241m1.0\u001b[39m\u001b[38;5;241m/\u001b[39m\u001b[38;5;241m0.00025\u001b[39m,  \u001b[38;5;66;03m# Adjust based on your depth image format\u001b[39;00m\n\u001b[1;32m      8\u001b[0m     depth_trunc\u001b[38;5;241m=\u001b[39m\u001b[38;5;241m2.0\u001b[39m,  \u001b[38;5;66;03m# Adjust to the maximum depth value you're interested in\u001b[39;00m\n\u001b[1;32m      9\u001b[0m     convert_rgb_to_intensity\u001b[38;5;241m=\u001b[39m\u001b[38;5;28;01mFalse\u001b[39;00m\n\u001b[1;32m     10\u001b[0m )\n\u001b[1;32m     12\u001b[0m \u001b[38;5;66;03m# Create a point cloud from the RGBD image and the intrinsic parameters\u001b[39;00m\n\u001b[1;32m     13\u001b[0m pcd \u001b[38;5;241m=\u001b[39m o3d\u001b[38;5;241m.\u001b[39mgeometry\u001b[38;5;241m.\u001b[39mPointCloud\u001b[38;5;241m.\u001b[39mcreate_from_rgbd_image(\n\u001b[1;32m     14\u001b[0m     rgbd_image,\n\u001b[1;32m     15\u001b[0m     intrinsics\n\u001b[1;32m     16\u001b[0m )\n",
      "\u001b[0;31mRuntimeError\u001b[0m: Image can only be initialized from buffer of uint8, uint16, or float!"
     ]
    }
   ],
   "source": [
    "\n",
    "\n",
    "\n",
    "\n",
    "        # \n",
    "\n",
    "        # Create an Open3D RGBD image from the RGB and depth images\n",
    "        rgbd_image = o3d.geometry.RGBDImage.create_from_color_and_depth(\n",
    "            o3d.geometry.Image(rgb),\n",
    "            o3d.geometry.Image(depth),\n",
    "            depth_scale=1.0/0.00025,  # Adjust based on your depth image format\n",
    "            depth_trunc=2.0,  # Adjust to the maximum depth value you're interested in\n",
    "            convert_rgb_to_intensity=False\n",
    "        )\n",
    " \n",
    "        # Create a point cloud from the RGBD image and the intrinsic parameters\n",
    "        pcd = o3d.geometry.PointCloud.create_from_rgbd_image(\n",
    "            rgbd_image,\n",
    "            intrinsics\n",
    "        )\n",
    "\n",
    "        \n",
    "        # Visualize the point cloud\n",
    "        o3d.visualization.draw_geometries([pcd])\n",
    "\n",
    "        plt.show()\n",
    "\n",
    "        # env.ee_pose.T = sm.SE3(state[\"X_BE\"], check=False).norm()\n",
    "        # target_pose = env.robot.fkine(state[\"gello_q\"], \"panda_link8\") * X_FE\n",
    "        # env.policy_pose.T = target_pose \n",
    "        # env.step(state[\"robot_q\"])\n",
    "        # time.sleep(0.1)"
   ]
  },
  {
   "cell_type": "code",
   "execution_count": null,
   "metadata": {},
   "outputs": [],
   "source": []
  }
 ],
 "metadata": {
  "kernelspec": {
   "display_name": "diffusion",
   "language": "python",
   "name": "python3"
  },
  "language_info": {
   "codemirror_mode": {
    "name": "ipython",
    "version": 3
   },
   "file_extension": ".py",
   "mimetype": "text/x-python",
   "name": "python",
   "nbconvert_exporter": "python",
   "pygments_lexer": "ipython3",
   "version": "3.9.18"
  }
 },
 "nbformat": 4,
 "nbformat_minor": 2
}
