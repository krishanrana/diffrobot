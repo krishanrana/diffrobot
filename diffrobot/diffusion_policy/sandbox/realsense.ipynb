{
 "cells": [
  {
   "cell_type": "code",
   "execution_count": 2,
   "metadata": {},
   "outputs": [],
   "source": [
    "import pyrealsense2 as rs\n",
    "import json\n",
    "\n",
    "# Start the camera pipeline\n",
    "pipeline = rs.pipeline()\n",
    "rs_config = rs.config()\n",
    "pipeline.start(rs_config)\n",
    "rs_config.enable_stream(rs.stream.color, 1280, 720, rs.format.rgb8, 30)\n",
    "rs_config.enable_stream(rs.stream.depth, 1024, 768, rs.format.z16, 30)\n",
    "\n",
    "rs_config.enable_device('f1230727')\n",
    "pipeline = rs.pipeline()\n",
    "pipeline_profile = pipeline.start(rs_config)\n",
    "device = pipeline_profile.get_device()\n",
    "advanced_mode  = rs.rs400_advanced_mode(device)\n",
    "\n",
    "json_path = \"/home/bumblebee/Desktop/test.json\"\n",
    "with open(json_path, 'r') as file:\n",
    "    json_text = file.read().strip()\n"
   ]
  },
  {
   "cell_type": "code",
   "execution_count": 6,
   "metadata": {},
   "outputs": [
    {
     "ename": "RuntimeError",
     "evalue": "null pointer passed for argument \"dev\"",
     "output_type": "error",
     "traceback": [
      "\u001b[0;31m---------------------------------------------------------------------------\u001b[0m",
      "\u001b[0;31mRuntimeError\u001b[0m                              Traceback (most recent call last)",
      "Cell \u001b[0;32mIn[6], line 1\u001b[0m\n\u001b[0;32m----> 1\u001b[0m \u001b[43madvanced_mode\u001b[49m\u001b[38;5;241;43m.\u001b[39;49m\u001b[43mload_json\u001b[49m\u001b[43m(\u001b[49m\u001b[43mjson_text\u001b[49m\u001b[43m)\u001b[49m\n",
      "\u001b[0;31mRuntimeError\u001b[0m: null pointer passed for argument \"dev\""
     ]
    }
   ],
   "source": [
    "advanced_mode.load_json(json_text)"
   ]
  },
  {
   "cell_type": "code",
   "execution_count": 7,
   "metadata": {},
   "outputs": [
    {
     "data": {
      "text/plain": [
       "'{\\n    \"aux-param-autoexposure-setpoint\": \"400\"\\n}'"
      ]
     },
     "execution_count": 7,
     "metadata": {},
     "output_type": "execute_result"
    }
   ],
   "source": [
    "json_text"
   ]
  },
  {
   "cell_type": "code",
   "execution_count": 10,
   "metadata": {},
   "outputs": [
    {
     "ename": "RuntimeError",
     "evalue": "null pointer passed for argument \"dev\"",
     "output_type": "error",
     "traceback": [
      "\u001b[0;31m---------------------------------------------------------------------------\u001b[0m",
      "\u001b[0;31mRuntimeError\u001b[0m                              Traceback (most recent call last)",
      "Cell \u001b[0;32mIn[10], line 1\u001b[0m\n\u001b[0;32m----> 1\u001b[0m \u001b[43madvanced_mode\u001b[49m\u001b[38;5;241;43m.\u001b[39;49m\u001b[43mserialize_json\u001b[49m\u001b[43m(\u001b[49m\u001b[43m)\u001b[49m\n",
      "\u001b[0;31mRuntimeError\u001b[0m: null pointer passed for argument \"dev\""
     ]
    }
   ],
   "source": [
    "advanced_mode.serialize_json()"
   ]
  },
  {
   "cell_type": "code",
   "execution_count": 5,
   "metadata": {},
   "outputs": [],
   "source": [
    "depth_sensor = device.first_depth_sensor()\n",
    "depth_sensor\n",
    "confidence_threshold = 3 \n",
    "depth_sensor.set_option(rs.option.confidence_threshold, confidence_threshold)\n",
    "noise_filtering = 6\n",
    "depth_sensor.set_option(rs.option.noise_filtering, noise_filtering)\n",
    "laser_power = 100.0\n",
    "depth_sensor.set_option(rs.option.laser_power, laser_power)\n",
    "receiver_gain = 12.0\n",
    "depth_sensor.set_option(rs.option.receiver_gain, receiver_gain)\n",
    "#post process sharpening\n",
    "sharpening = 1\n",
    "depth_sensor.set_option(rs.option.post_processing_sharpening, sharpening)\n"
   ]
  },
  {
   "cell_type": "code",
   "execution_count": null,
   "metadata": {},
   "outputs": [],
   "source": []
  },
  {
   "cell_type": "code",
   "execution_count": null,
   "metadata": {},
   "outputs": [],
   "source": []
  }
 ],
 "metadata": {
  "kernelspec": {
   "display_name": "Python 3",
   "language": "python",
   "name": "python3"
  },
  "language_info": {
   "codemirror_mode": {
    "name": "ipython",
    "version": 3
   },
   "file_extension": ".py",
   "mimetype": "text/x-python",
   "name": "python",
   "nbconvert_exporter": "python",
   "pygments_lexer": "ipython3",
   "version": "3.9.18"
  }
 },
 "nbformat": 4,
 "nbformat_minor": 2
}
